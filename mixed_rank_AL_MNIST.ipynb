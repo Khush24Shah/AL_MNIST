{
 "cells": [
  {
   "cell_type": "code",
   "execution_count": 1,
   "metadata": {},
   "outputs": [],
   "source": [
    "import numpy as np\n",
    "import pandas as pd\n",
    "import torch\n",
    "from torch import nn\n",
    "from torch.nn import functional as F\n",
    "from torch.optim import Adam\n",
    "import plotly.express as px\n",
    "import plotly.graph_objects as go\n",
    "import plotly.io as pio\n",
    "pio.renderers.default = \"plotly_mimetype+notebook_connected\"\n",
    "\n",
    "import matplotlib.pyplot as plt\n",
    "\n",
    "from tqdm import trange\n",
    "from copy import deepcopy"
   ]
  },
  {
   "cell_type": "code",
   "execution_count": 2,
   "metadata": {},
   "outputs": [],
   "source": [
    "train_data = pd.read_csv('mnist_train.csv')\n",
    "test_data = pd.read_csv('mnist_test.csv')"
   ]
  },
  {
   "cell_type": "code",
   "execution_count": 3,
   "metadata": {},
   "outputs": [
    {
     "data": {
      "text/html": [
       "<div>\n",
       "<style scoped>\n",
       "    .dataframe tbody tr th:only-of-type {\n",
       "        vertical-align: middle;\n",
       "    }\n",
       "\n",
       "    .dataframe tbody tr th {\n",
       "        vertical-align: top;\n",
       "    }\n",
       "\n",
       "    .dataframe thead th {\n",
       "        text-align: right;\n",
       "    }\n",
       "</style>\n",
       "<table border=\"1\" class=\"dataframe\">\n",
       "  <thead>\n",
       "    <tr style=\"text-align: right;\">\n",
       "      <th></th>\n",
       "      <th>label</th>\n",
       "      <th>1x1</th>\n",
       "      <th>1x2</th>\n",
       "      <th>1x3</th>\n",
       "      <th>1x4</th>\n",
       "      <th>1x5</th>\n",
       "      <th>1x6</th>\n",
       "      <th>1x7</th>\n",
       "      <th>1x8</th>\n",
       "      <th>1x9</th>\n",
       "      <th>...</th>\n",
       "      <th>28x19</th>\n",
       "      <th>28x20</th>\n",
       "      <th>28x21</th>\n",
       "      <th>28x22</th>\n",
       "      <th>28x23</th>\n",
       "      <th>28x24</th>\n",
       "      <th>28x25</th>\n",
       "      <th>28x26</th>\n",
       "      <th>28x27</th>\n",
       "      <th>28x28</th>\n",
       "    </tr>\n",
       "  </thead>\n",
       "  <tbody>\n",
       "    <tr>\n",
       "      <th>0</th>\n",
       "      <td>5</td>\n",
       "      <td>0</td>\n",
       "      <td>0</td>\n",
       "      <td>0</td>\n",
       "      <td>0</td>\n",
       "      <td>0</td>\n",
       "      <td>0</td>\n",
       "      <td>0</td>\n",
       "      <td>0</td>\n",
       "      <td>0</td>\n",
       "      <td>...</td>\n",
       "      <td>0</td>\n",
       "      <td>0</td>\n",
       "      <td>0</td>\n",
       "      <td>0</td>\n",
       "      <td>0</td>\n",
       "      <td>0</td>\n",
       "      <td>0</td>\n",
       "      <td>0</td>\n",
       "      <td>0</td>\n",
       "      <td>0</td>\n",
       "    </tr>\n",
       "    <tr>\n",
       "      <th>1</th>\n",
       "      <td>0</td>\n",
       "      <td>0</td>\n",
       "      <td>0</td>\n",
       "      <td>0</td>\n",
       "      <td>0</td>\n",
       "      <td>0</td>\n",
       "      <td>0</td>\n",
       "      <td>0</td>\n",
       "      <td>0</td>\n",
       "      <td>0</td>\n",
       "      <td>...</td>\n",
       "      <td>0</td>\n",
       "      <td>0</td>\n",
       "      <td>0</td>\n",
       "      <td>0</td>\n",
       "      <td>0</td>\n",
       "      <td>0</td>\n",
       "      <td>0</td>\n",
       "      <td>0</td>\n",
       "      <td>0</td>\n",
       "      <td>0</td>\n",
       "    </tr>\n",
       "    <tr>\n",
       "      <th>2</th>\n",
       "      <td>4</td>\n",
       "      <td>0</td>\n",
       "      <td>0</td>\n",
       "      <td>0</td>\n",
       "      <td>0</td>\n",
       "      <td>0</td>\n",
       "      <td>0</td>\n",
       "      <td>0</td>\n",
       "      <td>0</td>\n",
       "      <td>0</td>\n",
       "      <td>...</td>\n",
       "      <td>0</td>\n",
       "      <td>0</td>\n",
       "      <td>0</td>\n",
       "      <td>0</td>\n",
       "      <td>0</td>\n",
       "      <td>0</td>\n",
       "      <td>0</td>\n",
       "      <td>0</td>\n",
       "      <td>0</td>\n",
       "      <td>0</td>\n",
       "    </tr>\n",
       "    <tr>\n",
       "      <th>3</th>\n",
       "      <td>1</td>\n",
       "      <td>0</td>\n",
       "      <td>0</td>\n",
       "      <td>0</td>\n",
       "      <td>0</td>\n",
       "      <td>0</td>\n",
       "      <td>0</td>\n",
       "      <td>0</td>\n",
       "      <td>0</td>\n",
       "      <td>0</td>\n",
       "      <td>...</td>\n",
       "      <td>0</td>\n",
       "      <td>0</td>\n",
       "      <td>0</td>\n",
       "      <td>0</td>\n",
       "      <td>0</td>\n",
       "      <td>0</td>\n",
       "      <td>0</td>\n",
       "      <td>0</td>\n",
       "      <td>0</td>\n",
       "      <td>0</td>\n",
       "    </tr>\n",
       "    <tr>\n",
       "      <th>4</th>\n",
       "      <td>9</td>\n",
       "      <td>0</td>\n",
       "      <td>0</td>\n",
       "      <td>0</td>\n",
       "      <td>0</td>\n",
       "      <td>0</td>\n",
       "      <td>0</td>\n",
       "      <td>0</td>\n",
       "      <td>0</td>\n",
       "      <td>0</td>\n",
       "      <td>...</td>\n",
       "      <td>0</td>\n",
       "      <td>0</td>\n",
       "      <td>0</td>\n",
       "      <td>0</td>\n",
       "      <td>0</td>\n",
       "      <td>0</td>\n",
       "      <td>0</td>\n",
       "      <td>0</td>\n",
       "      <td>0</td>\n",
       "      <td>0</td>\n",
       "    </tr>\n",
       "    <tr>\n",
       "      <th>...</th>\n",
       "      <td>...</td>\n",
       "      <td>...</td>\n",
       "      <td>...</td>\n",
       "      <td>...</td>\n",
       "      <td>...</td>\n",
       "      <td>...</td>\n",
       "      <td>...</td>\n",
       "      <td>...</td>\n",
       "      <td>...</td>\n",
       "      <td>...</td>\n",
       "      <td>...</td>\n",
       "      <td>...</td>\n",
       "      <td>...</td>\n",
       "      <td>...</td>\n",
       "      <td>...</td>\n",
       "      <td>...</td>\n",
       "      <td>...</td>\n",
       "      <td>...</td>\n",
       "      <td>...</td>\n",
       "      <td>...</td>\n",
       "      <td>...</td>\n",
       "    </tr>\n",
       "    <tr>\n",
       "      <th>59995</th>\n",
       "      <td>8</td>\n",
       "      <td>0</td>\n",
       "      <td>0</td>\n",
       "      <td>0</td>\n",
       "      <td>0</td>\n",
       "      <td>0</td>\n",
       "      <td>0</td>\n",
       "      <td>0</td>\n",
       "      <td>0</td>\n",
       "      <td>0</td>\n",
       "      <td>...</td>\n",
       "      <td>0</td>\n",
       "      <td>0</td>\n",
       "      <td>0</td>\n",
       "      <td>0</td>\n",
       "      <td>0</td>\n",
       "      <td>0</td>\n",
       "      <td>0</td>\n",
       "      <td>0</td>\n",
       "      <td>0</td>\n",
       "      <td>0</td>\n",
       "    </tr>\n",
       "    <tr>\n",
       "      <th>59996</th>\n",
       "      <td>3</td>\n",
       "      <td>0</td>\n",
       "      <td>0</td>\n",
       "      <td>0</td>\n",
       "      <td>0</td>\n",
       "      <td>0</td>\n",
       "      <td>0</td>\n",
       "      <td>0</td>\n",
       "      <td>0</td>\n",
       "      <td>0</td>\n",
       "      <td>...</td>\n",
       "      <td>0</td>\n",
       "      <td>0</td>\n",
       "      <td>0</td>\n",
       "      <td>0</td>\n",
       "      <td>0</td>\n",
       "      <td>0</td>\n",
       "      <td>0</td>\n",
       "      <td>0</td>\n",
       "      <td>0</td>\n",
       "      <td>0</td>\n",
       "    </tr>\n",
       "    <tr>\n",
       "      <th>59997</th>\n",
       "      <td>5</td>\n",
       "      <td>0</td>\n",
       "      <td>0</td>\n",
       "      <td>0</td>\n",
       "      <td>0</td>\n",
       "      <td>0</td>\n",
       "      <td>0</td>\n",
       "      <td>0</td>\n",
       "      <td>0</td>\n",
       "      <td>0</td>\n",
       "      <td>...</td>\n",
       "      <td>0</td>\n",
       "      <td>0</td>\n",
       "      <td>0</td>\n",
       "      <td>0</td>\n",
       "      <td>0</td>\n",
       "      <td>0</td>\n",
       "      <td>0</td>\n",
       "      <td>0</td>\n",
       "      <td>0</td>\n",
       "      <td>0</td>\n",
       "    </tr>\n",
       "    <tr>\n",
       "      <th>59998</th>\n",
       "      <td>6</td>\n",
       "      <td>0</td>\n",
       "      <td>0</td>\n",
       "      <td>0</td>\n",
       "      <td>0</td>\n",
       "      <td>0</td>\n",
       "      <td>0</td>\n",
       "      <td>0</td>\n",
       "      <td>0</td>\n",
       "      <td>0</td>\n",
       "      <td>...</td>\n",
       "      <td>0</td>\n",
       "      <td>0</td>\n",
       "      <td>0</td>\n",
       "      <td>0</td>\n",
       "      <td>0</td>\n",
       "      <td>0</td>\n",
       "      <td>0</td>\n",
       "      <td>0</td>\n",
       "      <td>0</td>\n",
       "      <td>0</td>\n",
       "    </tr>\n",
       "    <tr>\n",
       "      <th>59999</th>\n",
       "      <td>8</td>\n",
       "      <td>0</td>\n",
       "      <td>0</td>\n",
       "      <td>0</td>\n",
       "      <td>0</td>\n",
       "      <td>0</td>\n",
       "      <td>0</td>\n",
       "      <td>0</td>\n",
       "      <td>0</td>\n",
       "      <td>0</td>\n",
       "      <td>...</td>\n",
       "      <td>0</td>\n",
       "      <td>0</td>\n",
       "      <td>0</td>\n",
       "      <td>0</td>\n",
       "      <td>0</td>\n",
       "      <td>0</td>\n",
       "      <td>0</td>\n",
       "      <td>0</td>\n",
       "      <td>0</td>\n",
       "      <td>0</td>\n",
       "    </tr>\n",
       "  </tbody>\n",
       "</table>\n",
       "<p>60000 rows × 785 columns</p>\n",
       "</div>"
      ],
      "text/plain": [
       "       label  1x1  1x2  1x3  1x4  1x5  1x6  1x7  1x8  1x9  ...  28x19  28x20  \\\n",
       "0          5    0    0    0    0    0    0    0    0    0  ...      0      0   \n",
       "1          0    0    0    0    0    0    0    0    0    0  ...      0      0   \n",
       "2          4    0    0    0    0    0    0    0    0    0  ...      0      0   \n",
       "3          1    0    0    0    0    0    0    0    0    0  ...      0      0   \n",
       "4          9    0    0    0    0    0    0    0    0    0  ...      0      0   \n",
       "...      ...  ...  ...  ...  ...  ...  ...  ...  ...  ...  ...    ...    ...   \n",
       "59995      8    0    0    0    0    0    0    0    0    0  ...      0      0   \n",
       "59996      3    0    0    0    0    0    0    0    0    0  ...      0      0   \n",
       "59997      5    0    0    0    0    0    0    0    0    0  ...      0      0   \n",
       "59998      6    0    0    0    0    0    0    0    0    0  ...      0      0   \n",
       "59999      8    0    0    0    0    0    0    0    0    0  ...      0      0   \n",
       "\n",
       "       28x21  28x22  28x23  28x24  28x25  28x26  28x27  28x28  \n",
       "0          0      0      0      0      0      0      0      0  \n",
       "1          0      0      0      0      0      0      0      0  \n",
       "2          0      0      0      0      0      0      0      0  \n",
       "3          0      0      0      0      0      0      0      0  \n",
       "4          0      0      0      0      0      0      0      0  \n",
       "...      ...    ...    ...    ...    ...    ...    ...    ...  \n",
       "59995      0      0      0      0      0      0      0      0  \n",
       "59996      0      0      0      0      0      0      0      0  \n",
       "59997      0      0      0      0      0      0      0      0  \n",
       "59998      0      0      0      0      0      0      0      0  \n",
       "59999      0      0      0      0      0      0      0      0  \n",
       "\n",
       "[60000 rows x 785 columns]"
      ]
     },
     "execution_count": 3,
     "metadata": {},
     "output_type": "execute_result"
    }
   ],
   "source": [
    "train_data"
   ]
  },
  {
   "cell_type": "code",
   "execution_count": 4,
   "metadata": {},
   "outputs": [
    {
     "name": "stdout",
     "output_type": "stream",
     "text": [
      "class 0 size: 5923\n",
      "class 1 size: 6742\n",
      "class 2 size: 5958\n",
      "class 3 size: 6131\n",
      "class 4 size: 5842\n",
      "class 5 size: 5421\n",
      "class 6 size: 5918\n",
      "class 7 size: 6265\n",
      "class 8 size: 5851\n",
      "class 9 size: 5949\n"
     ]
    }
   ],
   "source": [
    "for i in range(10):\n",
    "    print(f\"class {i} size:\", len(train_data[train_data[\"label\"] == i]))"
   ]
  },
  {
   "cell_type": "code",
   "execution_count": 5,
   "metadata": {},
   "outputs": [],
   "source": [
    "train_data_1 = train_data[train_data[\"label\"] == 1]\n",
    "train_data_0 = train_data[train_data[\"label\"] != 1]\n",
    "train_data = None\n",
    "\n",
    "test_data_1 = test_data[test_data[\"label\"] == 1]\n",
    "test_data_0 = test_data[test_data[\"label\"] != 1]\n",
    "test_data = None"
   ]
  },
  {
   "cell_type": "code",
   "execution_count": 6,
   "metadata": {},
   "outputs": [
    {
     "data": {
      "text/plain": [
       "((53258, 785), (6742, 785), (8865, 785), (1135, 785))"
      ]
     },
     "execution_count": 6,
     "metadata": {},
     "output_type": "execute_result"
    }
   ],
   "source": [
    "train_data_0.shape, train_data_1.shape, test_data_0.shape, test_data_1.shape"
   ]
  },
  {
   "cell_type": "code",
   "execution_count": 7,
   "metadata": {},
   "outputs": [
    {
     "name": "stdout",
     "output_type": "stream",
     "text": [
      "(6742, 784) (53258, 784)\n",
      "(1135, 784) (8865, 784)\n"
     ]
    }
   ],
   "source": [
    "train_1_array = train_data_1.to_numpy()\n",
    "train_0_array = train_data_0.to_numpy()\n",
    "\n",
    "train_1_labels = train_1_array[:, 0]\n",
    "train_0_labels = np.array([0] * train_0_array.shape[0])\n",
    "\n",
    "train_1_array = train_1_array[:, 1:]\n",
    "train_0_array = train_0_array[:, 1:]\n",
    "\n",
    "print(train_1_array.shape, train_0_array.shape)\n",
    "\n",
    "test_1_array = test_data_1.to_numpy()\n",
    "test_0_array = test_data_0.to_numpy()\n",
    "\n",
    "test_1_labels = test_1_array[:, 0]\n",
    "test_0_labels = np.array([0] * test_0_array.shape[0])\n",
    "\n",
    "test_1_array = test_1_array[:, 1:]\n",
    "test_0_array = test_0_array[:, 1:]\n",
    "\n",
    "print(test_1_array.shape, test_0_array.shape)"
   ]
  },
  {
   "cell_type": "code",
   "execution_count": 8,
   "metadata": {},
   "outputs": [],
   "source": [
    "train_1_array = train_1_array.reshape(-1, 28, 28)\n",
    "train_0_array = train_0_array.reshape(-1, 28, 28)\n",
    "\n",
    "test_1_array = test_1_array.reshape(-1, 28, 28)\n",
    "test_0_array = test_0_array.reshape(-1, 28, 28)"
   ]
  },
  {
   "cell_type": "code",
   "execution_count": 9,
   "metadata": {},
   "outputs": [
    {
     "data": {
      "text/plain": [
       "((6742, 28, 28), (53258, 28, 28), (1135, 28, 28), (8865, 28, 28))"
      ]
     },
     "execution_count": 9,
     "metadata": {},
     "output_type": "execute_result"
    }
   ],
   "source": [
    "train_1_array.shape, train_0_array.shape, test_1_array.shape, test_0_array.shape"
   ]
  },
  {
   "cell_type": "code",
   "execution_count": 10,
   "metadata": {},
   "outputs": [],
   "source": [
    "# random 1 values from 0 to len(data_1_array)\n",
    "random_values = np.random.randint(0, len(train_1_array), 1)\n",
    "\n",
    "# train pool split\n",
    "train_1, train_1_y = train_1_array[random_values], train_1_labels[random_values]\n",
    "pool_1, pool_1_y = np.delete(train_1_array, random_values, axis=0), np.delete(train_1_labels, random_values, axis=0)\n",
    "\n",
    "# random 1 values from 0 to len(data_0_array)\n",
    "random_values = np.random.randint(0, len(train_0_array), 1)\n",
    "\n",
    "# train pool split\n",
    "train_0, train_0_y = train_0_array[random_values], train_0_labels[random_values]\n",
    "pool_0, pool_0_y = np.delete(train_0_array, random_values, axis=0), np.delete(train_0_labels, random_values, axis=0)"
   ]
  },
  {
   "cell_type": "code",
   "execution_count": 11,
   "metadata": {},
   "outputs": [
    {
     "data": {
      "text/plain": [
       "((6741, 28, 28), (6741,), (53257, 28, 28), (53257,))"
      ]
     },
     "execution_count": 11,
     "metadata": {},
     "output_type": "execute_result"
    }
   ],
   "source": [
    "pool_1.shape, pool_1_y.shape, pool_0.shape, pool_0_y.shape"
   ]
  },
  {
   "cell_type": "code",
   "execution_count": 12,
   "metadata": {},
   "outputs": [
    {
     "data": {
      "text/plain": [
       "((8865,), (1135,))"
      ]
     },
     "execution_count": 12,
     "metadata": {},
     "output_type": "execute_result"
    }
   ],
   "source": [
    "test_0_labels.shape, test_1_labels.shape"
   ]
  },
  {
   "cell_type": "code",
   "execution_count": 13,
   "metadata": {},
   "outputs": [
    {
     "data": {
      "text/plain": [
       "((59998, 28, 28), (59998,))"
      ]
     },
     "execution_count": 13,
     "metadata": {},
     "output_type": "execute_result"
    }
   ],
   "source": [
    "pool = np.concatenate((pool_1, pool_0), axis=0)\n",
    "pool_y = np.concatenate((pool_1_y, pool_0_y), axis=0)\n",
    "\n",
    "pool.shape, pool_y.shape"
   ]
  },
  {
   "cell_type": "code",
   "execution_count": 14,
   "metadata": {},
   "outputs": [],
   "source": [
    "class Model(nn.Module):\n",
    "    def __init__(self):\n",
    "        super().__init__()\n",
    "        self.conv1 = nn.Conv2d(1, 8, 3)\n",
    "        self.conv2 = nn.Conv2d(8, 16, 3)\n",
    "        self.conv3 = nn.Conv2d(16, 2, 3)\n",
    "        self.fc1 = nn.Linear(2, 128)\n",
    "        self.fc2 = nn.Linear(128, 64)\n",
    "        self.fc3 = nn.Linear(64, 1)\n",
    "        self.pool = nn.MaxPool2d(2, 2)\n",
    "\n",
    "    def forward(self, x, features=False):\n",
    "        x = x.view(-1, 1, 28, 28)\n",
    "        x = self.pool(F.relu(self.conv1(x)))\n",
    "        x = self.pool(F.relu(self.conv2(x)))\n",
    "        x = self.pool(F.relu(self.conv3(x)))\n",
    "        x = x.view(-1, 2)\n",
    "        if features:\n",
    "            return x\n",
    "        x = F.relu(self.fc1(x))\n",
    "        x = F.relu(self.fc2(x))\n",
    "        x = F.sigmoid(self.fc3(x))\n",
    "        return x"
   ]
  },
  {
   "cell_type": "code",
   "execution_count": 15,
   "metadata": {},
   "outputs": [],
   "source": [
    "def train(model, optimizer, criterion, train_X, train_y, epochs=5):\n",
    "    model.train()\n",
    "    losses = []\n",
    "    accuracy = []\n",
    "    for epoch in range(epochs):\n",
    "        optimizer.zero_grad()\n",
    "        output = model(train_X)\n",
    "        output = torch.cat((1 - output, output), 1)\n",
    "\n",
    "        loss = criterion(output, train_y)\n",
    "        loss.backward()\n",
    "        optimizer.step()\n",
    "\n",
    "        losses.append(loss.item())\n",
    "\n",
    "        pred = torch.round(output)\n",
    "        \n",
    "        true_positives = torch.sum(torch.logical_and(pred[:, 1] == 1, train_y[:, 1] == 1)).item()\n",
    "        true_negatives = torch.sum(torch.logical_and(pred[:, 0] == 1, train_y[:, 0] == 1)).item()\n",
    "        false_positives = torch.sum(torch.logical_and(pred[:, 1] == 1, train_y[:, 0] == 1)).item()\n",
    "        false_negatives = torch.sum(torch.logical_and(pred[:, 0] == 1, train_y[:, 1] == 1)).item()\n",
    "\n",
    "        # accuracy_value = (true_positives + true_negatives) / (true_positives + true_negatives + false_positives + false_negatives)\n",
    "        accuracy.append((true_positives, true_negatives, false_positives, false_negatives))\n",
    "    \n",
    "    accuracy = np.array(accuracy)\n",
    "\n",
    "    return losses, accuracy, output"
   ]
  },
  {
   "cell_type": "code",
   "execution_count": 16,
   "metadata": {},
   "outputs": [],
   "source": [
    "def eval(model, criterion, test_X, test_y):\n",
    "    model.eval()\n",
    "    with torch.no_grad():\n",
    "        output = model(test_X)\n",
    "        output = torch.cat((1 - output, output), 1)\n",
    "        loss = criterion(output, test_y)\n",
    "        pred = torch.round(output)\n",
    "\n",
    "        true_positives = torch.sum(torch.logical_and(pred[:, 1] == 1, test_y[:, 1] == 1)).item()\n",
    "        true_negatives = torch.sum(torch.logical_and(pred[:, 0] == 1, test_y[:, 0] == 1)).item()\n",
    "        false_positives = torch.sum(torch.logical_and(pred[:, 1] == 1, test_y[:, 0] == 1)).item()\n",
    "        false_negatives = torch.sum(torch.logical_and(pred[:, 0] == 1, test_y[:, 1] == 1)).item()\n",
    "\n",
    "        accuracy = (true_positives, true_negatives, false_positives, false_negatives)\n",
    "        \n",
    "    return loss.item(), accuracy, output"
   ]
  },
  {
   "cell_type": "code",
   "execution_count": 17,
   "metadata": {},
   "outputs": [],
   "source": [
    "model = Model()\n",
    "optimizer = Adam(model.parameters(), lr=0.001)\n",
    "criterion = nn.BCELoss()"
   ]
  },
  {
   "cell_type": "code",
   "execution_count": 18,
   "metadata": {},
   "outputs": [
    {
     "data": {
      "text/plain": [
       "(torch.Size([2, 28, 28]), torch.Size([2, 2]))"
      ]
     },
     "execution_count": 18,
     "metadata": {},
     "output_type": "execute_result"
    }
   ],
   "source": [
    "train_X = np.concatenate((train_0, train_1), axis=0)\n",
    "train_X = torch.from_numpy(train_X).float()\n",
    "train_y = np.concatenate((train_0_y, train_1_y), axis=0)\n",
    "train_y = torch.from_numpy(train_y).float()\n",
    "train_y = F.one_hot(train_y.to(torch.int64), num_classes=2).float()\n",
    "\n",
    "train_X.shape, train_y.shape"
   ]
  },
  {
   "cell_type": "code",
   "execution_count": 19,
   "metadata": {},
   "outputs": [],
   "source": [
    "losses, accuracy, pred = train(model, optimizer, criterion, train_X, train_y)"
   ]
  },
  {
   "cell_type": "code",
   "execution_count": 29,
   "metadata": {},
   "outputs": [
    {
     "data": {
      "image/png": "[encoded data removed]",
      "text/plain": [
       "<Figure size 640x480 with 1 Axes>"
      ]
     },
     "metadata": {},
     "output_type": "display_data"
    }
   ],
   "source": [
    "plt.plot(losses)\n",
    "plt.xlabel(\"Epochs\")\n",
    "plt.ylabel(\"Loss\")\n",
    "plt.title(\"Training Loss\")\n",
    "plt.show()"
   ]
  },
  {
   "cell_type": "code",
   "execution_count": 28,
   "metadata": {},
   "outputs": [
    {
     "data": {
      "image/png": "[encoded data removed]",
      "text/plain": [
       "<Figure size 640x480 with 1 Axes>"
      ]
     },
     "metadata": {},
     "output_type": "display_data"
    }
   ],
   "source": [
    "plt.plot(100*(accuracy[:, 0]+accuracy[:, 1])/(accuracy[:, 0]+accuracy[:, 1]+accuracy[:, 2]+accuracy[:, 3]))\n",
    "plt.xlabel(\"Epochs\")\n",
    "plt.ylabel(\"Accuracy(%)\")\n",
    "plt.title(\"Training Accuracy\")\n",
    "plt.show()"
   ]
  },
  {
   "cell_type": "markdown",
   "metadata": {},
   "source": [
    "# Active Learning"
   ]
  },
  {
   "cell_type": "code",
   "execution_count": 30,
   "metadata": {},
   "outputs": [],
   "source": [
    "def centroid(model, train_x, pool_x, pool_y, ranks=False):\n",
    "    features = model(train_x, features=True)\n",
    "    centroid_feature = torch.mean(features, dim=0)\n",
    "    pool_features = model(pool_x, features=True)\n",
    "\n",
    "    distance = torch.cdist(pool_features, centroid_feature.reshape(1, -1))\n",
    "    \n",
    "    n_max_idx = torch.argmax(distance)\n",
    "\n",
    "    if ranks:\n",
    "        distance_ranks = torch.argsort(distance.reshape(-1))\n",
    "\n",
    "        return n_max_idx, pool_x[n_max_idx], pool_y[n_max_idx], distance_ranks.reshape(-1)\n",
    "    \n",
    "    return n_max_idx, pool_x[n_max_idx], pool_y[n_max_idx]\n",
    "\n",
    "\n",
    "def farthest(model, train_x, pool_x, pool_y, ranks=False):\n",
    "    features = model(train_x, features=True)\n",
    "    pool_features = model(pool_x, features=True)\n",
    "    distances = torch.cdist(pool_features, features)\n",
    "    farthest = torch.max(distances, dim=1)\n",
    "    n_max_idx = torch.argmax(farthest.values)\n",
    "\n",
    "    if ranks:\n",
    "        distance_ranks = torch.argsort(farthest.values)\n",
    "\n",
    "        return n_max_idx, pool_x[n_max_idx], pool_y[n_max_idx], distance_ranks.reshape(-1)\n",
    "    \n",
    "    return n_max_idx, pool_x[n_max_idx], pool_y[n_max_idx]\n",
    "\n",
    "\n",
    "def closest(model, train_x, pool_x, pool_y, ranks=False):\n",
    "    features = model(train_x, features=True)\n",
    "    pool_features = model(pool_x, features=True)\n",
    "    distances = torch.cdist(pool_features, features)\n",
    "    closest = torch.min(distances, dim=1)\n",
    "    n_max_idx = torch.argmax(closest.values)\n",
    "\n",
    "    if ranks:\n",
    "        distance_ranks = torch.argsort(closest.values)\n",
    "\n",
    "        return n_max_idx, pool_x[n_max_idx], pool_y[n_max_idx], distance_ranks.reshape(-1)\n",
    "    \n",
    "    return n_max_idx, pool_x[n_max_idx], pool_y[n_max_idx]\n",
    "\n",
    "\n",
    "def entropy(model, pool_x, pool_y, ranks=False):\n",
    "    p = model(pool_x)\n",
    "\n",
    "    entropy = torch.where((p == 0) | (p == 1), torch.zeros_like(p), -p*torch.log2(p) - (1-p)*torch.log2(1-p)).reshape(-1)\n",
    "\n",
    "    n_max_idx = torch.argmax(entropy)\n",
    "\n",
    "    if ranks:\n",
    "        entropy_ranks = torch.argsort(entropy)\n",
    "\n",
    "        return n_max_idx, pool_x[n_max_idx], pool_y[n_max_idx], entropy_ranks\n",
    "    \n",
    "    return n_max_idx, pool_x[n_max_idx], pool_y[n_max_idx]\n",
    "\n",
    "\n",
    "def compare_ranks(ranks1, ranks2):\n",
    "    added = ranks1.reshape(-1) + ranks2.reshape(-1)\n",
    "\n",
    "    min_rank, min_idx = torch.min(added, dim=0)\n",
    "\n",
    "    return min_rank, min_idx"
   ]
  },
  {
   "cell_type": "code",
   "execution_count": 31,
   "metadata": {},
   "outputs": [
    {
     "data": {
      "text/plain": [
       "(tensor(6), tensor(1))"
      ]
     },
     "execution_count": 31,
     "metadata": {},
     "output_type": "execute_result"
    }
   ],
   "source": [
    "# test compare ranks\n",
    "ranks1 = torch.tensor([10, 2, 3, 4, 5])\n",
    "ranks2 = torch.tensor([5, 4, 3, 2, 1])\n",
    "\n",
    "compare_ranks(ranks1, ranks2)"
   ]
  },
  {
   "cell_type": "code",
   "execution_count": 32,
   "metadata": {},
   "outputs": [],
   "source": [
    "def test(model, criterion):\n",
    "    test_X = np.concatenate((test_0_array, test_1_array), axis=0)\n",
    "    test_X = torch.from_numpy(test_X).float()\n",
    "    test_y = np.concatenate((test_0_labels, test_1_labels), axis=0)\n",
    "    test_y = torch.from_numpy(test_y).float()\n",
    "    test_y = F.one_hot(test_y.to(torch.int64), num_classes=2).float()\n",
    "\n",
    "    loss, acc, _ = eval(model, criterion, test_X, test_y)\n",
    "\n",
    "    return loss, acc"
   ]
  },
  {
   "cell_type": "code",
   "execution_count": 33,
   "metadata": {},
   "outputs": [],
   "source": [
    "train_X = np.concatenate((train_0, train_1), axis=0)\n",
    "train_X = torch.from_numpy(train_X).float()\n",
    "train_y = np.concatenate((train_0_y, train_1_y), axis=0)\n",
    "train_y = torch.from_numpy(train_y).float()\n",
    "train_y = F.one_hot(train_y.to(torch.int64), num_classes=2).float()\n",
    "\n",
    "pool_X = np.concatenate((pool_0, pool_1), axis=0)\n",
    "pool_X = torch.from_numpy(pool_X).float()\n",
    "pool_y = np.concatenate((pool_0_y, pool_1_y), axis=0)\n",
    "pool_y = torch.from_numpy(pool_y).float()\n",
    "pool_y = F.one_hot(pool_y.to(torch.int64), num_classes=2).float()"
   ]
  },
  {
   "cell_type": "code",
   "execution_count": 34,
   "metadata": {},
   "outputs": [],
   "source": [
    "losses = [[], [], []]\n",
    "accuracy = [[], [], []]\n",
    "ac_f = {1: centroid, 2: farthest, 3: closest}"
   ]
  },
  {
   "cell_type": "code",
   "execution_count": 35,
   "metadata": {},
   "outputs": [
    {
     "name": "stdout",
     "output_type": "stream",
     "text": [
      "Active Learning Method: 1 ------------------------------\n"
     ]
    },
    {
     "name": "stderr",
     "output_type": "stream",
     "text": [
      "100%|██████████| 30/30 [01:21<00:00,  2.70s/it]\n"
     ]
    },
    {
     "name": "stdout",
     "output_type": "stream",
     "text": [
      "Active Learning Method: 2 ------------------------------\n"
     ]
    },
    {
     "name": "stderr",
     "output_type": "stream",
     "text": [
      "100%|██████████| 30/30 [01:21<00:00,  2.71s/it]\n"
     ]
    },
    {
     "name": "stdout",
     "output_type": "stream",
     "text": [
      "Active Learning Method: 3 ------------------------------\n"
     ]
    },
    {
     "name": "stderr",
     "output_type": "stream",
     "text": [
      "100%|██████████| 30/30 [01:11<00:00,  2.38s/it]\n"
     ]
    }
   ],
   "source": [
    "for i in range(3):\n",
    "    print(f\"Active Learning Method: {i+1} ------------------------------\")\n",
    "    f = ac_f[i+1]\n",
    "\n",
    "    model = Model()\n",
    "    optimizer = Adam(model.parameters(), lr=0.001)\n",
    "    criterion = nn.BCELoss()\n",
    "\n",
    "    t_x = deepcopy(train_X)\n",
    "    t_y = deepcopy(train_y)\n",
    "    p_x = deepcopy(pool_X)\n",
    "    p_y = deepcopy(pool_y)\n",
    "    \n",
    "    for j in trange(30):\n",
    "        _, _, _ = train(model, optimizer, criterion, t_x, t_y)\n",
    "        loss, acc = test(model, criterion)\n",
    "\n",
    "        losses[i].append(loss)\n",
    "        accuracy[i].append(100*(acc[0]+acc[1])/(acc[0] + acc[1] + acc[2] + acc[3]))\n",
    "\n",
    "        _, _, _, ranks1 = f(model, t_x, p_x, p_y, ranks=True)\n",
    "        _, _, _, ranks2 = entropy(model, p_x, p_y, ranks=True)\n",
    "\n",
    "        min_rank, ind = compare_ranks(ranks1, ranks2)\n",
    "\n",
    "        t_x = torch.cat((t_x, p_x[ind].reshape(-1, 28, 28)), dim=0)\n",
    "        t_y = torch.cat((t_y, p_y[ind].reshape(-1, 2)), dim=0)\n",
    "\n",
    "        p_x = torch.cat((p_x[:ind], p_x[ind+1:]), dim=0)\n",
    "        p_y = torch.cat((p_y[:ind], p_y[ind+1:]), dim=0)\n",
    "\n",
    "        # print(f\"Epoch {j+1} - Loss: {losses[i][-1]} - Accuracy: {accuracy[i][-1]}%\")"
   ]
  },
  {
   "cell_type": "code",
   "execution_count": 36,
   "metadata": {},
   "outputs": [],
   "source": [
    "random_losses = []\n",
    "random_accuracy = []"
   ]
  },
  {
   "cell_type": "code",
   "execution_count": 37,
   "metadata": {},
   "outputs": [
    {
     "name": "stdout",
     "output_type": "stream",
     "text": [
      "Random 1 ------------------------------\n"
     ]
    },
    {
     "name": "stderr",
     "output_type": "stream",
     "text": [
      "  0%|          | 0/30 [00:00<?, ?it/s]"
     ]
    },
    {
     "name": "stderr",
     "output_type": "stream",
     "text": [
      "100%|██████████| 30/30 [00:06<00:00,  4.91it/s]\n"
     ]
    },
    {
     "name": "stdout",
     "output_type": "stream",
     "text": [
      "Random 2 ------------------------------\n"
     ]
    },
    {
     "name": "stderr",
     "output_type": "stream",
     "text": [
      "100%|██████████| 30/30 [00:05<00:00,  5.17it/s]\n"
     ]
    },
    {
     "name": "stdout",
     "output_type": "stream",
     "text": [
      "Random 3 ------------------------------\n"
     ]
    },
    {
     "name": "stderr",
     "output_type": "stream",
     "text": [
      "100%|██████████| 30/30 [00:05<00:00,  5.19it/s]\n"
     ]
    },
    {
     "name": "stdout",
     "output_type": "stream",
     "text": [
      "Random 4 ------------------------------\n"
     ]
    },
    {
     "name": "stderr",
     "output_type": "stream",
     "text": [
      "100%|██████████| 30/30 [00:05<00:00,  5.15it/s]\n"
     ]
    },
    {
     "name": "stdout",
     "output_type": "stream",
     "text": [
      "Random 5 ------------------------------\n"
     ]
    },
    {
     "name": "stderr",
     "output_type": "stream",
     "text": [
      "100%|██████████| 30/30 [00:05<00:00,  5.17it/s]\n"
     ]
    },
    {
     "name": "stdout",
     "output_type": "stream",
     "text": [
      "Random 6 ------------------------------\n"
     ]
    },
    {
     "name": "stderr",
     "output_type": "stream",
     "text": [
      "100%|██████████| 30/30 [00:05<00:00,  5.17it/s]\n"
     ]
    },
    {
     "name": "stdout",
     "output_type": "stream",
     "text": [
      "Random 7 ------------------------------\n"
     ]
    },
    {
     "name": "stderr",
     "output_type": "stream",
     "text": [
      "100%|██████████| 30/30 [00:05<00:00,  5.18it/s]\n"
     ]
    },
    {
     "name": "stdout",
     "output_type": "stream",
     "text": [
      "Random 8 ------------------------------\n"
     ]
    },
    {
     "name": "stderr",
     "output_type": "stream",
     "text": [
      "100%|██████████| 30/30 [00:05<00:00,  5.17it/s]\n"
     ]
    },
    {
     "name": "stdout",
     "output_type": "stream",
     "text": [
      "Random 9 ------------------------------\n"
     ]
    },
    {
     "name": "stderr",
     "output_type": "stream",
     "text": [
      "100%|██████████| 30/30 [00:05<00:00,  5.13it/s]\n"
     ]
    },
    {
     "name": "stdout",
     "output_type": "stream",
     "text": [
      "Random 10 ------------------------------\n"
     ]
    },
    {
     "name": "stderr",
     "output_type": "stream",
     "text": [
      "100%|██████████| 30/30 [00:05<00:00,  5.03it/s]\n"
     ]
    }
   ],
   "source": [
    "for i in range(10):\n",
    "    r_losses = []\n",
    "    r_accuracy = []\n",
    "    print(f\"Random {i+1} ------------------------------\")\n",
    "\n",
    "    model = Model()\n",
    "    optimizer = Adam(model.parameters(), lr=0.001)\n",
    "    criterion = nn.BCELoss()\n",
    "\n",
    "    t_x = deepcopy(train_X)\n",
    "    t_y = deepcopy(train_y)\n",
    "    p_x = deepcopy(pool_X)\n",
    "    p_y = deepcopy(pool_y)\n",
    "\n",
    "    for j in trange(30):\n",
    "        _, _, _ = train(model, optimizer, criterion, t_x, t_y)\n",
    "        loss, acc = test(model, criterion)\n",
    "\n",
    "        r_losses.append(loss)\n",
    "        r_accuracy.append(100*(acc[0]+acc[1])/(acc[0] + acc[1] + acc[2] + acc[3]))\n",
    "        \n",
    "        ind = np.random.randint(0, len(p_x))\n",
    "\n",
    "        t_x = torch.cat((t_x, p_x[ind].reshape(-1, 28, 28)), dim=0)\n",
    "        t_y = torch.cat((t_y, p_y[ind].reshape(-1, 2)), dim=0)\n",
    "\n",
    "        p_x = torch.cat((p_x[:ind], p_x[ind+1:]), dim=0)\n",
    "        p_y = torch.cat((p_y[:ind], p_y[ind+1:]), dim=0)\n",
    "\n",
    "        # print(f\"Epoch {j+1} - Loss: {r_losses[-1]} - Accuracy: {r_accuracy[-1]}%\")\n",
    "\n",
    "    random_losses.append(r_losses)\n",
    "    random_accuracy.append(r_accuracy)"
   ]
  },
  {
   "cell_type": "code",
   "execution_count": 41,
   "metadata": {},
   "outputs": [
    {
     "data": {
      "image/png": "[encoded data removed]",
      "text/plain": [
       "<Figure size 1000x500 with 1 Axes>"
      ]
     },
     "metadata": {},
     "output_type": "display_data"
    }
   ],
   "source": [
    "plt.figure(figsize=(10, 5))\n",
    "plt.plot(losses[0], label=\"Centroid\")\n",
    "plt.plot(losses[1], label=\"Farthest\")\n",
    "plt.plot(losses[2], label=\"Closest\")\n",
    "plt.plot(np.mean(random_losses, axis=0), label=\"Random\")\n",
    "plt.fill_between(np.arange(30), np.mean(random_losses, axis=0) - 1.645*np.std(random_losses, axis=0), np.mean(random_losses, axis=0) + 1.645*np.std(random_losses, axis=0), alpha=0.3)\n",
    "plt.xlabel(\"Epochs\")\n",
    "plt.ylabel(\"Loss\")\n",
    "plt.title(\"Training Loss over Epochs\")\n",
    "plt.legend()\n",
    "plt.show()"
   ]
  },
  {
   "cell_type": "code",
   "execution_count": 47,
   "metadata": {},
   "outputs": [
    {
     "data": {
      "image/png": "[encoded data removed]",
      "text/plain": [
       "<Figure size 1000x500 with 1 Axes>"
      ]
     },
     "metadata": {},
     "output_type": "display_data"
    }
   ],
   "source": [
    "plt.figure(figsize=(10, 5))\n",
    "plt.plot(accuracy[0], label=\"Centroid\")\n",
    "plt.plot(accuracy[1], label=\"Farthest\")\n",
    "plt.plot(accuracy[2], label=\"Closest\")\n",
    "plt.plot(np.mean(random_accuracy, axis=0), label=\"Random\")\n",
    "plt.fill_between(np.arange(30), np.mean(random_accuracy, axis=0) - 1.645*np.std(random_accuracy, axis=0), np.mean(random_accuracy, axis=0) + 1.645*np.std(random_accuracy, axis=0), alpha=0.3)\n",
    "plt.xlabel(\"Epochs\")\n",
    "plt.ylabel(\"Accuracy(%)\")\n",
    "plt.title(\"Test Accuracy over Epochs\")\n",
    "plt.legend()\n",
    "plt.show()"
   ]
  }
 ],
 "metadata": {
  "kernelspec": {
   "display_name": "base",
   "language": "python",
   "name": "python3"
  },
  "language_info": {
   "codemirror_mode": {
    "name": "ipython",
    "version": 3
   },
   "file_extension": ".py",
   "mimetype": "text/x-python",
   "name": "python",
   "nbconvert_exporter": "python",
   "pygments_lexer": "ipython3",
   "version": "3.11.5"
  }
 },
 "nbformat": 4,
 "nbformat_minor": 2
}
